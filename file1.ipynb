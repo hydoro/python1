{
  "nbformat": 4,
  "nbformat_minor": 0,
  "metadata": {
    "colab": {
      "name": "ファイル操作.ipynb",
      "version": "0.3.2",
      "provenance": [],
      "collapsed_sections": []
    },
    "kernelspec": {
      "name": "python3",
      "display_name": "Python 3"
    }
  },
  "cells": [
    {
      "cell_type": "markdown",
      "metadata": {
        "id": "GsT5AKlkxyOt",
        "colab_type": "text"
      },
      "source": [
        "# Pythonでファイル操作"
      ]
    },
    {
      "cell_type": "markdown",
      "metadata": {
        "id": "Sw4hmHkVx4J7",
        "colab_type": "text"
      },
      "source": [
        "## ライブラリ読み込み"
      ]
    },
    {
      "cell_type": "code",
      "metadata": {
        "id": "BfRqnbRftR54",
        "colab_type": "code",
        "colab": {}
      },
      "source": [
        "import os\n",
        "import shutil"
      ],
      "execution_count": 0,
      "outputs": []
    },
    {
      "cell_type": "markdown",
      "metadata": {
        "id": "R3LqqQLax8DV",
        "colab_type": "text"
      },
      "source": [
        "## フォルダ作成"
      ]
    },
    {
      "cell_type": "code",
      "metadata": {
        "id": "fiAUvDaItmRJ",
        "colab_type": "code",
        "colab": {}
      },
      "source": [
        "os.mkdir('abc')"
      ],
      "execution_count": 0,
      "outputs": []
    },
    {
      "cell_type": "markdown",
      "metadata": {
        "id": "7jlVIr_ix_Fv",
        "colab_type": "text"
      },
      "source": [
        "## フォルダ内参照"
      ]
    },
    {
      "cell_type": "code",
      "metadata": {
        "id": "LXcmTTfsuVmk",
        "colab_type": "code",
        "colab": {}
      },
      "source": [
        "os.listdir('./')"
      ],
      "execution_count": 0,
      "outputs": []
    },
    {
      "cell_type": "markdown",
      "metadata": {
        "id": "DxnvfBwbyFAB",
        "colab_type": "text"
      },
      "source": [
        "## 新規ファイル作成\n",
        "### open()の使い方\n",
        "`open()` の第2引数は `mode` です。  \n",
        " `mode` は、ファイルが読み出し専用なら 'r' 、書き込み専用 (同名の既存のファイルがあれば消去されます) なら 'w' とします。また、対象ファイルがない場合は新規作成されます。    \n",
        " 'a' はファイルを追記用に開きます。\n",
        " \n",
        "ファイルに書き込まれた内容は自動的にファイルの終端に追加されます。 'r+' はファイルを読み書き両用に開きます。  \n",
        " mode 引数は省略可能で、省略された場合には 'r' \n",
        " \n",
        " open()を使用した場合は処理終了後に必ず**close()を記述しなければなりません。**\n",
        " \n",
        "### withの使い方\n",
        "```\n",
        "with open(path) as f:\n",
        "    print(type(f))\n",
        "```\n",
        "\n",
        "withを使わなかった場合\n",
        "```\n",
        "path = 'data/src/test.txt'\n",
        "\n",
        "f = open(path)\n",
        "\n",
        "print(type(f))\n",
        "# <class '_io.TextIOWrapper'>\n",
        "\n",
        "f.close()\n",
        "```"
      ]
    },
    {
      "cell_type": "markdown",
      "metadata": {
        "id": "F2nbBnac3ImI",
        "colab_type": "text"
      },
      "source": [
        "### 新規ファイル作成と書き込み"
      ]
    },
    {
      "cell_type": "code",
      "metadata": {
        "id": "VkKAQwpQu8RI",
        "colab_type": "code",
        "colab": {}
      },
      "source": [
        "f = open('abc/test.txt','w')\n",
        "\n",
        "f.write('abc')\n",
        "\n",
        "f.close()"
      ],
      "execution_count": 0,
      "outputs": []
    },
    {
      "cell_type": "markdown",
      "metadata": {
        "id": "Oy8UMuSm26aK",
        "colab_type": "text"
      },
      "source": [
        "### open関数で読み込む例"
      ]
    },
    {
      "cell_type": "code",
      "metadata": {
        "id": "yteMir861d8z",
        "colab_type": "code",
        "outputId": "bafbfd55-0d53-495b-90bd-450cce9f32f8",
        "colab": {
          "base_uri": "https://localhost:8080/",
          "height": 33
        }
      },
      "source": [
        "path = 'test.txt'\n",
        "f = open(path,'r')\n",
        "print(f)\n",
        "f.close()"
      ],
      "execution_count": 0,
      "outputs": [
        {
          "output_type": "stream",
          "text": [
            "<_io.TextIOWrapper name='test.txt' mode='r' encoding='UTF-8'>\n"
          ],
          "name": "stdout"
        }
      ]
    },
    {
      "cell_type": "markdown",
      "metadata": {
        "id": "1wUlMDCy2dKw",
        "colab_type": "text"
      },
      "source": [
        "### withを活用した例"
      ]
    },
    {
      "cell_type": "code",
      "metadata": {
        "id": "niC51Fi72gEU",
        "colab_type": "code",
        "outputId": "a44350e9-1a3b-41f2-e227-31130adbad76",
        "colab": {
          "base_uri": "https://localhost:8080/",
          "height": 33
        }
      },
      "source": [
        "with open(path,'r') as f:\n",
        "    print(f)"
      ],
      "execution_count": 0,
      "outputs": [
        {
          "output_type": "stream",
          "text": [
            "<_io.TextIOWrapper name='test.txt' mode='r' encoding='UTF-8'>\n"
          ],
          "name": "stdout"
        }
      ]
    },
    {
      "cell_type": "markdown",
      "metadata": {
        "id": "LM7ZIoFE1a7K",
        "colab_type": "text"
      },
      "source": [
        "### ファイルの文書を読み出すにはさらにread()を使う"
      ]
    },
    {
      "cell_type": "code",
      "metadata": {
        "id": "zGtxxN062FSz",
        "colab_type": "code",
        "outputId": "ee1e6e21-a488-4120-a1fd-18d18bc01b00",
        "colab": {
          "base_uri": "https://localhost:8080/",
          "height": 33
        }
      },
      "source": [
        "with open(path,'r') as f:\n",
        "  s = f.read()\n",
        "  print(s)"
      ],
      "execution_count": 0,
      "outputs": [
        {
          "output_type": "stream",
          "text": [
            "abc\n"
          ],
          "name": "stdout"
        }
      ]
    },
    {
      "cell_type": "markdown",
      "metadata": {
        "id": "A5Ouzkk9yNSf",
        "colab_type": "text"
      },
      "source": [
        "## ファイルコピー"
      ]
    },
    {
      "cell_type": "code",
      "metadata": {
        "id": "1uuOJ9HqwD93",
        "colab_type": "code",
        "outputId": "9752d887-167b-4a04-9b6b-575a6a3385e6",
        "colab": {
          "base_uri": "https://localhost:8080/",
          "height": 33
        }
      },
      "source": [
        "shutil.copy('abc/test.txt', './test.txt')"
      ],
      "execution_count": 0,
      "outputs": [
        {
          "output_type": "execute_result",
          "data": {
            "text/plain": [
              "'./test.txt'"
            ]
          },
          "metadata": {
            "tags": []
          },
          "execution_count": 8
        }
      ]
    },
    {
      "cell_type": "markdown",
      "metadata": {
        "id": "h9pjmlDAySAW",
        "colab_type": "text"
      },
      "source": [
        "## ファイル移動"
      ]
    },
    {
      "cell_type": "code",
      "metadata": {
        "id": "MNCe8M72wfFJ",
        "colab_type": "code",
        "outputId": "bc911927-9776-4351-c2a2-b0bf86621c95",
        "colab": {
          "base_uri": "https://localhost:8080/",
          "height": 33
        }
      },
      "source": [
        "shutil.move('abc/test.txt', './test.txt')"
      ],
      "execution_count": 0,
      "outputs": [
        {
          "output_type": "execute_result",
          "data": {
            "text/plain": [
              "'./test.txt'"
            ]
          },
          "metadata": {
            "tags": []
          },
          "execution_count": 9
        }
      ]
    },
    {
      "cell_type": "markdown",
      "metadata": {
        "id": "ChNR-3X9yYbY",
        "colab_type": "text"
      },
      "source": [
        "## フォルダ削除（フォルダ内ファイルも削除）\n",
        "慎重に使うこと"
      ]
    },
    {
      "cell_type": "code",
      "metadata": {
        "id": "EAYCR-4vw_p1",
        "colab_type": "code",
        "colab": {}
      },
      "source": [
        "shutil.rmtree('abc')"
      ],
      "execution_count": 0,
      "outputs": []
    },
    {
      "cell_type": "markdown",
      "metadata": {
        "id": "K4PSX9XPyhed",
        "colab_type": "text"
      },
      "source": [
        "## ターミナルとして使う方法"
      ]
    },
    {
      "cell_type": "code",
      "metadata": {
        "id": "WjOMAkl6xYz0",
        "colab_type": "code",
        "outputId": "ca3c8514-8818-4d24-dab1-cd97ee5ebc39",
        "colab": {
          "base_uri": "https://localhost:8080/",
          "height": 33
        }
      },
      "source": [
        "%%bash\n",
        "pwd"
      ],
      "execution_count": 0,
      "outputs": [
        {
          "output_type": "stream",
          "text": [
            "/content\n"
          ],
          "name": "stdout"
        }
      ]
    }
  ]
}